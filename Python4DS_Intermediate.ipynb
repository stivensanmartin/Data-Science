{
 "cells": [
  {
   "cell_type": "markdown",
   "metadata": {},
   "source": [
    "# Comparision between `Ask HN` and `Show HN`\n",
    "\n",
    "We'll compare these two types of posts to determine the following:\n",
    "\n",
    "+ Do Ask HN or Show HN receive more comments on average?\n",
    "+ Do posts created at a certain time receive more comments on average?"
   ]
  },
  {
   "cell_type": "code",
   "execution_count": 1,
   "metadata": {
    "collapsed": true
   },
   "outputs": [],
   "source": [
    "from csv import reader\n",
    "\n",
    "opened_file = open(\"hacker_news.csv\")\n",
    "readed_file = reader(opened_file)\n",
    "hn = list(readed_file)"
   ]
  },
  {
   "cell_type": "code",
   "execution_count": 2,
   "metadata": {
    "collapsed": false
   },
   "outputs": [
    {
     "name": "stdout",
     "output_type": "stream",
     "text": [
      "['id', 'title', 'url', 'num_points', 'num_comments', 'author', 'created_at']\n",
      "[['12224879', 'Interactive Dynamic Video', 'http://www.interactivedynamicvideo.com/', '386', '52', 'ne0phyte', '8/4/2016 11:52'], ['10975351', 'How to Use Open Source and Shut the Fuck Up at the Same Time', 'http://hueniverse.com/2016/01/26/how-to-use-open-source-and-shut-the-fuck-up-at-the-same-time/', '39', '10', 'josep2', '1/26/2016 19:30']]\n"
     ]
    }
   ],
   "source": [
    "headers = hn[0]\n",
    "hn = hn[1:]\n",
    "print(headers)\n",
    "print(hn[:2])"
   ]
  },
  {
   "cell_type": "code",
   "execution_count": 3,
   "metadata": {
    "collapsed": false
   },
   "outputs": [
    {
     "name": "stdout",
     "output_type": "stream",
     "text": [
      "Ask post: 1744\n",
      "Show posts: 1162\n",
      "Other posts: 17194\n"
     ]
    }
   ],
   "source": [
    "ask_posts = []\n",
    "show_posts = []\n",
    "other_posts = []\n",
    "for post in hn:\n",
    "    title = post[1]\n",
    "    if title.lower().startswith('ask hn'):\n",
    "        ask_posts.append(post)\n",
    "    elif title.lower().startswith('show hn'):\n",
    "        show_posts.append(post)\n",
    "    else:\n",
    "        other_posts.append(post)\n",
    "        \n",
    "print('Ask post: {}\\nShow posts: {}\\nOther posts: {}'.format(len(ask_posts), len(show_posts), len(other_posts)))"
   ]
  },
  {
   "cell_type": "code",
   "execution_count": 4,
   "metadata": {
    "collapsed": false
   },
   "outputs": [
    {
     "name": "stdout",
     "output_type": "stream",
     "text": [
      "Avegerage ask comments 14.038417431192661\n",
      "Avegerage show comments 10.31669535283993\n"
     ]
    }
   ],
   "source": [
    "total_ask_comments = 0\n",
    "for post in ask_posts:\n",
    "    comments = int(post[4])\n",
    "    total_ask_comments += comments\n",
    "avg_ask_comments = total_ask_comments / len(ask_posts)\n",
    "print(\"Avegerage ask comments\", avg_ask_comments)\n",
    "\n",
    "total_show_comments = 0\n",
    "for post in show_posts:\n",
    "    comments = int(post[4])\n",
    "    total_show_comments += comments\n",
    "avg_show_comments = total_show_comments / len(show_posts)\n",
    "print(\"Avegerage show comments\", avg_show_comments)"
   ]
  },
  {
   "cell_type": "markdown",
   "metadata": {
    "collapsed": true
   },
   "source": [
    "Ask post have in average more comments than show comments"
   ]
  },
  {
   "cell_type": "code",
   "execution_count": 5,
   "metadata": {
    "collapsed": false,
    "scrolled": true
   },
   "outputs": [
    {
     "name": "stdout",
     "output_type": "stream",
     "text": [
      "{'23': 68, '05': 46, '15': 116, '20': 80, '18': 109, '17': 100, '13': 85, '03': 54, '02': 58, '21': 109, '08': 48, '11': 58, '16': 108, '09': 45, '22': 71, '06': 44, '04': 47, '01': 60, '14': 107, '00': 55, '12': 73, '19': 110, '07': 34, '10': 59}\n",
      "{'23': 543, '05': 464, '15': 4477, '20': 1722, '18': 1439, '17': 1146, '13': 1253, '03': 421, '02': 1381, '21': 1745, '08': 492, '11': 641, '16': 1814, '09': 251, '22': 479, '06': 397, '04': 337, '01': 683, '14': 1416, '00': 447, '12': 687, '19': 1188, '07': 267, '10': 793}\n"
     ]
    }
   ],
   "source": [
    "import datetime as dt\n",
    "result_list = []\n",
    "for post in ask_posts:\n",
    "    created_at = post[6]\n",
    "    comments = int(post[4])\n",
    "    result_list.append([created_at, comments])\n",
    "    \n",
    "counts_by_hour = {}\n",
    "comments_by_hour = {}\n",
    "for result in result_list:\n",
    "    comments = result[1]\n",
    "    date = dt.datetime.strptime(result[0], \"%m/%d/%Y %H:%M\")\n",
    "    hour = date.strftime(\"%H\")\n",
    "    if hour not in counts_by_hour:\n",
    "        counts_by_hour[hour] = 1\n",
    "        comments_by_hour[hour] = comments\n",
    "    else:\n",
    "        counts_by_hour[hour] += 1\n",
    "        comments_by_hour[hour] += comments\n",
    "\n",
    "print(counts_by_hour)\n",
    "print(comments_by_hour)"
   ]
  },
  {
   "cell_type": "code",
   "execution_count": 7,
   "metadata": {
    "collapsed": false
   },
   "outputs": [
    {
     "data": {
      "text/plain": [
       "[['23', 7.985294117647059],\n",
       " ['05', 10.08695652173913],\n",
       " ['15', 38.5948275862069],\n",
       " ['20', 21.525],\n",
       " ['18', 13.20183486238532],\n",
       " ['17', 11.46],\n",
       " ['13', 14.741176470588234],\n",
       " ['03', 7.796296296296297],\n",
       " ['02', 23.810344827586206],\n",
       " ['21', 16.009174311926607],\n",
       " ['08', 10.25],\n",
       " ['11', 11.051724137931034],\n",
       " ['16', 16.796296296296298],\n",
       " ['09', 5.5777777777777775],\n",
       " ['22', 6.746478873239437],\n",
       " ['06', 9.022727272727273],\n",
       " ['04', 7.170212765957447],\n",
       " ['01', 11.383333333333333],\n",
       " ['14', 13.233644859813085],\n",
       " ['00', 8.127272727272727],\n",
       " ['12', 9.41095890410959],\n",
       " ['19', 10.8],\n",
       " ['07', 7.852941176470588],\n",
       " ['10', 13.440677966101696]]"
      ]
     },
     "execution_count": 7,
     "metadata": {},
     "output_type": "execute_result"
    }
   ],
   "source": [
    "avg_by_hour = []\n",
    "for hour in counts_by_hour:\n",
    "    avg_by_hour.append([hour, comments_by_hour[hour]/counts_by_hour[hour]])\n",
    "avg_by_hour"
   ]
  },
  {
   "cell_type": "code",
   "execution_count": 8,
   "metadata": {
    "collapsed": false
   },
   "outputs": [
    {
     "data": {
      "text/plain": [
       "[[7.985294117647059, '23'],\n",
       " [10.08695652173913, '05'],\n",
       " [38.5948275862069, '15'],\n",
       " [21.525, '20'],\n",
       " [13.20183486238532, '18'],\n",
       " [11.46, '17'],\n",
       " [14.741176470588234, '13'],\n",
       " [7.796296296296297, '03'],\n",
       " [23.810344827586206, '02'],\n",
       " [16.009174311926607, '21'],\n",
       " [10.25, '08'],\n",
       " [11.051724137931034, '11'],\n",
       " [16.796296296296298, '16'],\n",
       " [5.5777777777777775, '09'],\n",
       " [6.746478873239437, '22'],\n",
       " [9.022727272727273, '06'],\n",
       " [7.170212765957447, '04'],\n",
       " [11.383333333333333, '01'],\n",
       " [13.233644859813085, '14'],\n",
       " [8.127272727272727, '00'],\n",
       " [9.41095890410959, '12'],\n",
       " [10.8, '19'],\n",
       " [7.852941176470588, '07'],\n",
       " [13.440677966101696, '10']]"
      ]
     },
     "execution_count": 8,
     "metadata": {},
     "output_type": "execute_result"
    }
   ],
   "source": [
    "swap_avg_by_hour = []\n",
    "for hour in avg_by_hour:\n",
    "    swap_avg_by_hour.append([hour[1], hour[0]])\n",
    "swap_avg_by_hour"
   ]
  },
  {
   "cell_type": "code",
   "execution_count": 9,
   "metadata": {
    "collapsed": false
   },
   "outputs": [
    {
     "data": {
      "text/plain": [
       "[[38.5948275862069, '15'],\n",
       " [23.810344827586206, '02'],\n",
       " [21.525, '20'],\n",
       " [16.796296296296298, '16'],\n",
       " [16.009174311926607, '21'],\n",
       " [14.741176470588234, '13'],\n",
       " [13.440677966101696, '10'],\n",
       " [13.233644859813085, '14'],\n",
       " [13.20183486238532, '18'],\n",
       " [11.46, '17'],\n",
       " [11.383333333333333, '01'],\n",
       " [11.051724137931034, '11'],\n",
       " [10.8, '19'],\n",
       " [10.25, '08'],\n",
       " [10.08695652173913, '05'],\n",
       " [9.41095890410959, '12'],\n",
       " [9.022727272727273, '06'],\n",
       " [8.127272727272727, '00'],\n",
       " [7.985294117647059, '23'],\n",
       " [7.852941176470588, '07'],\n",
       " [7.796296296296297, '03'],\n",
       " [7.170212765957447, '04'],\n",
       " [6.746478873239437, '22'],\n",
       " [5.5777777777777775, '09']]"
      ]
     },
     "execution_count": 9,
     "metadata": {},
     "output_type": "execute_result"
    }
   ],
   "source": [
    "sorted_swap = sorted(swap_avg_by_hour, reverse = True)\n",
    "sorted_swap"
   ]
  },
  {
   "cell_type": "code",
   "execution_count": 11,
   "metadata": {
    "collapsed": false
   },
   "outputs": [
    {
     "name": "stdout",
     "output_type": "stream",
     "text": [
      "15:00: 38.59 average comments per post\n",
      "02:00: 23.81 average comments per post\n",
      "20:00: 21.52 average comments per post\n",
      "16:00: 16.80 average comments per post\n",
      "21:00: 16.01 average comments per post\n",
      "13:00: 14.74 average comments per post\n",
      "10:00: 13.44 average comments per post\n",
      "14:00: 13.23 average comments per post\n",
      "18:00: 13.20 average comments per post\n",
      "17:00: 11.46 average comments per post\n",
      "01:00: 11.38 average comments per post\n",
      "11:00: 11.05 average comments per post\n",
      "19:00: 10.80 average comments per post\n",
      "08:00: 10.25 average comments per post\n",
      "05:00: 10.09 average comments per post\n",
      "12:00: 9.41 average comments per post\n",
      "06:00: 9.02 average comments per post\n",
      "00:00: 8.13 average comments per post\n",
      "23:00: 7.99 average comments per post\n",
      "07:00: 7.85 average comments per post\n",
      "03:00: 7.80 average comments per post\n",
      "04:00: 7.17 average comments per post\n",
      "22:00: 6.75 average comments per post\n",
      "09:00: 5.58 average comments per post\n"
     ]
    }
   ],
   "source": [
    "for hour in sorted_swap:\n",
    "    print(\"{}:00: {:.2f} average comments per post\".format(hour[1], hour[0]))"
   ]
  },
  {
   "cell_type": "code",
   "execution_count": null,
   "metadata": {
    "collapsed": true
   },
   "outputs": [],
   "source": []
  }
 ],
 "metadata": {
  "kernelspec": {
   "display_name": "Python 3",
   "language": "python",
   "name": "python3"
  },
  "language_info": {
   "codemirror_mode": {
    "name": "ipython",
    "version": 3
   },
   "file_extension": ".py",
   "mimetype": "text/x-python",
   "name": "python",
   "nbconvert_exporter": "python",
   "pygments_lexer": "ipython3",
   "version": "3.4.3"
  }
 },
 "nbformat": 4,
 "nbformat_minor": 2
}
